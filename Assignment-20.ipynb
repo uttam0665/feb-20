{
 "cells": [
  {
   "cell_type": "code",
   "execution_count": null,
   "id": "a38d10ba",
   "metadata": {},
   "outputs": [],
   "source": [
    "Q1. Explain GET and POST methods.\n",
    "Ans:-\n",
    "\n",
    "GET METHOD:-\n",
    "    \n",
    "The GET method is used to submit the HTML form data. This data is collected by the predefined $_GET variable for processing.\n",
    "The information sent from an HTML form using the GET method is visible to everyone in the browser's address bar, which means that all the variable names and their values will be displayed in the URL.\n",
    "Therefore, the get method is not secured to send sensitive information.\n",
    "\n",
    "Example:-\n",
    "         localhost/gettest.php?\n",
    "         username=Harry&bloodgroup=AB+\n",
    "            \n",
    "POST METHODS:-\n",
    "    \n",
    "Similar to the GET method, the POST method is also used to submit the HTML form data. \n",
    "But the data submitted by this method is collected by the predefined superglobal variable $_POST instead of $_GET.\n",
    "Unlike the GET method, it does not have a limit on the amount of information to be sent. The information sent from an HTML form using the POST method is not visible to anyone.\n",
    "\n",
    "Example:-\n",
    "        localhost/posttest.php  "
   ]
  },
  {
   "cell_type": "code",
   "execution_count": null,
   "id": "bb96ff6f",
   "metadata": {},
   "outputs": [],
   "source": [
    "Q2.Why is request used in Flask?\n",
    "Ans:-\n",
    "When the Flask application handles a request, it creates a Request object based on the environment it received from the WSGI server.\n",
    "Because a worker (thread, process, or coroutine depending on the server) handles only one request at a time, the request data can be considered global to that worker during that request.\n",
    "\n",
    "The Request, in Flask, is an object that contains all the data sent from the Client to Server.\n",
    "This data can be recovered using the GET/POST Methods. "
   ]
  },
  {
   "cell_type": "code",
   "execution_count": null,
   "id": "9dafa253",
   "metadata": {},
   "outputs": [],
   "source": [
    "Q3. Why is redirect() used in Flask?\n",
    "Ans:-\n",
    "    What is the purpose of redirect?\n",
    "A redirect is a way to send both users and search engines to a different URL from the one they originally requested. \n",
    "The three most commonly used redirects are 301, 302, and Meta Refresh."
   ]
  },
  {
   "cell_type": "code",
   "execution_count": null,
   "id": "abb21ee6",
   "metadata": {},
   "outputs": [],
   "source": [
    "Q4. What are templates in Flask? Why is the render_template() function used?\n",
    "Ans:-\n",
    "Templates in Flask:-\n",
    "    \n",
    "Templates are files that contain static data as well as placeholders for dynamic data.\n",
    "A template is rendered with specific data to produce a final document. Flask uses the Jinja template library to render templates.\n",
    "In your application, you will use templates to render HTML which will display in the user's browser.\n",
    "\n",
    "The render_template() function:-\n",
    "    \n",
    "render_template is used to generate output from a template file based on the Jinja2 engine that is found in the application's templates folder. Note that render_template is typically imported directly from the flask package instead of from flask."
   ]
  },
  {
   "cell_type": "code",
   "execution_count": null,
   "id": "cf70e2a3",
   "metadata": {},
   "outputs": [],
   "source": [
    "Q5. Create a simple API. Use Postman to test it. Attach the screenshot of the output in the Jupyter Notebook.\\\n",
    "Ans:-\n",
    "//Install the necessary dependencies. Run the following command in your terminal:    \n",
    "\n",
    "npm install express body-parser\n",
    "\n",
    "//Create a new file called app.js and add the following code:\n",
    "const express = require('express');\n",
    "const bodyParser = require('body-parser');\n",
    "\n",
    "const app = express();\n",
    "\n",
    "app.use(bodyParser.json());\n",
    "app.use(bodyParser.urlencoded({ extended: false }));\n",
    "\n",
    "app.get('/user/:id', (req, res) => {\n",
    "  const { id } = req.params;\n",
    "  const userInfo = {\n",
    "    id,\n",
    "    name: 'John Doe',\n",
    "    email: 'johndoe@example.com',\n",
    "    phone: '555-555-5555'\n",
    "  };\n",
    "  res.status(200).send(userInfo);\n",
    "});\n",
    "\n",
    "const port = process.env.PORT || 5000;\n",
    "app.listen(port, () => {\n",
    "  console.log(`Server running on port ${port}`);\n",
    "});\n",
    "\n",
    "    \n",
    "//Start the server by running the following command in your terminal\n",
    "\n",
    "node app.js\n",
    "    \n",
    "//Open Postman and create a new request. Set the request method to GET and enter the following URL:\n",
    "    \n",
    "http://localhost:5000/user/123\n",
    "    "
   ]
  }
 ],
 "metadata": {
  "kernelspec": {
   "display_name": "Python 3 (ipykernel)",
   "language": "python",
   "name": "python3"
  },
  "language_info": {
   "codemirror_mode": {
    "name": "ipython",
    "version": 3
   },
   "file_extension": ".py",
   "mimetype": "text/x-python",
   "name": "python",
   "nbconvert_exporter": "python",
   "pygments_lexer": "ipython3",
   "version": "3.9.13"
  }
 },
 "nbformat": 4,
 "nbformat_minor": 5
}
